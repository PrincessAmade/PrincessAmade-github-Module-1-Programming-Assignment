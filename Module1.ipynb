{
 "cells": [
  {
   "cell_type": "code",
   "execution_count": 4,
   "id": "eccd52b8-ea1e-4d17-8e3b-936fe58e91e0",
   "metadata": {},
   "outputs": [
    {
     "name": "stdout",
     "output_type": "stream",
     "text": [
      "How many seconds are in an hour?\n",
      "There are  3600  seconds in an hour.\n",
      "How many seconds are in a day? There are  86400  seconds in a day\n",
      "There are  86400  seconds in a day\n",
      " This is the answer for floating-point (/) division:  24.0\n",
      " This is the answer for integer (/) division:  24\n",
      "Do the results agree aside from the .0?  True\n"
     ]
    }
   ],
   "source": [
    "print(\"How many seconds are in an hour?\")\n",
    "seconds = 60\n",
    "minutes = 60\n",
    "seconds_per_hour = seconds * minutes\n",
    "print(\"There are \",seconds_per_hour,\" seconds in an hour.\")\n",
    "print(\"How many seconds are in a day? There are \",seconds*60*24,\" seconds in a day\")\n",
    "hours_in_a_day = 24\n",
    "minutes_in_an_hour = 60\n",
    "seconds_per_day = seconds*minutes_in_an_hour*hours_in_a_day\n",
    "print(\"There are \",seconds_per_day,\" seconds in a day\")\n",
    "floating_point_division_answer = seconds_per_day / seconds_per_hour\n",
    "integer_division_answer = seconds_per_day // seconds_per_hour\n",
    "print(\" This is the answer for floating-point (/) division: \",floating_point_division_answer)\n",
    "print(\" This is the answer for integer (/) division: \",integer_division_answer)\n",
    "result_agreement = floating_point_division_answer == integer_division_answer\n",
    "print(\"Do the results agree aside from the .0? \", result_agreement)"
   ]
  }
 ],
 "metadata": {
  "kernelspec": {
   "display_name": "Python 3 (ipykernel)",
   "language": "python",
   "name": "python3"
  },
  "language_info": {
   "codemirror_mode": {
    "name": "ipython",
    "version": 3
   },
   "file_extension": ".py",
   "mimetype": "text/x-python",
   "name": "python",
   "nbconvert_exporter": "python",
   "pygments_lexer": "ipython3",
   "version": "3.12.7"
  }
 },
 "nbformat": 4,
 "nbformat_minor": 5
}
